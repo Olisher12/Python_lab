{
  "cells": [
    {
      "cell_type": "code",
      "source": [
        "import numpy as np\n",
        "import tensorflow as tf\n",
        "import cv2\n",
        "import tensorflow_datasets as tfds"
      ],
      "metadata": {
        "id": "DmUzZi1uUVOd"
      },
      "execution_count": 2,
      "outputs": []
    },
    {
      "cell_type": "code",
      "source": [
        "mnist_dataset, mnist_info = tfds.load(name='mnist', with_info=True, as_supervised=True)\n",
        "mnist_train, mnist_test = mnist_dataset['train'], mnist_dataset['test']\n",
        "num_validation_samples = 0.1 * mnist_info.splits['train'].num_examples\n",
        "num_validation_samples = tf.cast(num_validation_samples, tf.int64)\n",
        "num_test_samples = mnist_info.splits['test'].num_examples\n",
        "num_test_samples = tf.cast(num_test_samples, tf.int64)"
      ],
      "metadata": {
        "id": "vSBakmoeUvmF"
      },
      "execution_count": 3,
      "outputs": []
    },
    {
      "cell_type": "code",
      "source": [
        "def scale(image, label):\n",
        "    image = tf.cast(image, tf.float32)\n",
        "    image /= 255.\n",
        "    return image, label\n",
        "scaled_train_and_validation_data = mnist_train.map(scale)\n",
        "test_data = mnist_test.map(scale)"
      ],
      "metadata": {
        "id": "INaD2d3bU_1h"
      },
      "execution_count": 4,
      "outputs": []
    },
    {
      "cell_type": "code",
      "source": [
        "BUFFER_SIZE = 1000\n",
        "shuffled_train_and_validation_data = scaled_train_and_validation_data.shuffle(BUFFER_SIZE)\n",
        "validation_data = shuffled_train_and_validation_data.take(num_validation_samples)\n",
        "train_data = shuffled_train_and_validation_data.skip(num_validation_samples)"
      ],
      "metadata": {
        "id": "C3LYaKo2VGS2"
      },
      "execution_count": 5,
      "outputs": []
    },
    {
      "cell_type": "code",
      "source": [
        "BATCH_SIZE = 100\n",
        "train_data = train_data.batch(BATCH_SIZE)\n",
        "validation_data = validation_data.batch(num_validation_samples)\n",
        "test_data = test_data.batch(num_test_samples)\n",
        "validation_inputs, validation_targets = next(iter(validation_data))\n",
        "print(validation_inputs.shape)\n",
        "print(validation_targets.shape)"
      ],
      "metadata": {
        "id": "8LNdlmCMVI_3",
        "outputId": "63b4202e-528f-495f-ec9f-7f6cdadb411f",
        "colab": {
          "base_uri": "https://localhost:8080/"
        }
      },
      "execution_count": 6,
      "outputs": [
        {
          "output_type": "stream",
          "name": "stdout",
          "text": [
            "(6000, 28, 28, 1)\n",
            "(6000,)\n"
          ]
        }
      ]
    },
    {
      "cell_type": "code",
      "source": [
        "input_size = 784\n",
        "output_size = 10\n",
        "hidden_layer_size = 50\n",
        "model = tf.keras.Sequential([\n",
        "    tf.keras.layers.Flatten(input_shape=(28, 28, 1)),\n",
        "    tf.keras.layers.Dense(hidden_layer_size, activation='relu'),\n",
        "    tf.keras.layers.Dense(hidden_layer_size, activation='relu'),\n",
        "    tf.keras.layers.Dense(output_size, activation='softmax')\n",
        "])\n",
        "model.compile(optimizer='adam', loss='sparse_categorical_crossentropy', metrics=['accuracy'])"
      ],
      "metadata": {
        "id": "tsFTCeaeVLyx",
        "outputId": "f0632be6-0d0b-4371-bcba-9d0a587eb704",
        "colab": {
          "base_uri": "https://localhost:8080/"
        }
      },
      "execution_count": 7,
      "outputs": [
        {
          "output_type": "stream",
          "name": "stderr",
          "text": [
            "/usr/local/lib/python3.11/dist-packages/keras/src/layers/reshaping/flatten.py:37: UserWarning: Do not pass an `input_shape`/`input_dim` argument to a layer. When using Sequential models, prefer using an `Input(shape)` object as the first layer in the model instead.\n",
            "  super().__init__(**kwargs)\n"
          ]
        }
      ]
    },
    {
      "cell_type": "code",
      "source": [
        "NUM_EPOCHS = 30\n",
        "early_stopping = tf.keras.callbacks.EarlyStopping(patience=2)\n",
        "model.fit(train_data,\n",
        "          epochs=NUM_EPOCHS,\n",
        "          callbacks=[early_stopping],\n",
        "          validation_data=(validation_inputs, validation_targets),\n",
        "          verbose=2)"
      ],
      "metadata": {
        "id": "ruMjvwDwVOeh",
        "outputId": "a1663596-329a-4e1a-be58-14e9ffce3ef6",
        "colab": {
          "base_uri": "https://localhost:8080/"
        }
      },
      "execution_count": 8,
      "outputs": [
        {
          "output_type": "stream",
          "name": "stdout",
          "text": [
            "Epoch 1/30\n",
            "540/540 - 7s - 13ms/step - accuracy: 0.8837 - loss: 0.4138 - val_accuracy: 0.9335 - val_loss: 0.2260\n",
            "Epoch 2/30\n",
            "540/540 - 7s - 13ms/step - accuracy: 0.9470 - loss: 0.1860 - val_accuracy: 0.9470 - val_loss: 0.1682\n",
            "Epoch 3/30\n",
            "540/540 - 3s - 6ms/step - accuracy: 0.9584 - loss: 0.1419 - val_accuracy: 0.9560 - val_loss: 0.1449\n",
            "Epoch 4/30\n",
            "540/540 - 3s - 5ms/step - accuracy: 0.9666 - loss: 0.1134 - val_accuracy: 0.9597 - val_loss: 0.1307\n",
            "Epoch 5/30\n",
            "540/540 - 3s - 5ms/step - accuracy: 0.9724 - loss: 0.0949 - val_accuracy: 0.9620 - val_loss: 0.1190\n",
            "Epoch 6/30\n",
            "540/540 - 3s - 5ms/step - accuracy: 0.9758 - loss: 0.0811 - val_accuracy: 0.9647 - val_loss: 0.1110\n",
            "Epoch 7/30\n",
            "540/540 - 3s - 6ms/step - accuracy: 0.9785 - loss: 0.0716 - val_accuracy: 0.9663 - val_loss: 0.1063\n",
            "Epoch 8/30\n",
            "540/540 - 3s - 5ms/step - accuracy: 0.9813 - loss: 0.0631 - val_accuracy: 0.9655 - val_loss: 0.1141\n",
            "Epoch 9/30\n",
            "540/540 - 3s - 5ms/step - accuracy: 0.9832 - loss: 0.0566 - val_accuracy: 0.9655 - val_loss: 0.1068\n"
          ]
        },
        {
          "output_type": "execute_result",
          "data": {
            "text/plain": [
              "<keras.src.callbacks.history.History at 0x7dbca0de1050>"
            ]
          },
          "metadata": {},
          "execution_count": 8
        }
      ]
    },
    {
      "cell_type": "code",
      "source": [
        "test_loss, test_accuracy = model.evaluate(test_data)\n",
        "print('Test loss: {0:.2f}. Test accuracy: {1:.2f}%'.format(test_loss, test_accuracy*100.))"
      ],
      "metadata": {
        "id": "T1XtvEUdVRDI",
        "outputId": "008e0486-5f70-43ce-d68f-2cb8e4322a56",
        "colab": {
          "base_uri": "https://localhost:8080/"
        }
      },
      "execution_count": 9,
      "outputs": [
        {
          "output_type": "stream",
          "name": "stdout",
          "text": [
            "\u001b[1m1/1\u001b[0m \u001b[32m━━━━━━━━━━━━━━━━━━━━\u001b[0m\u001b[37m\u001b[0m \u001b[1m1s\u001b[0m 669ms/step - accuracy: 0.9704 - loss: 0.0999\n",
            "Test loss: 0.10. Test accuracy: 97.04%\n"
          ]
        }
      ]
    },
    {
      "cell_type": "code",
      "source": [
        "mg = cv2.imread('/content/cyfra.png', cv2.IMREAD_GRAYSCALE)\n",
        "img = cv2.resize(img, (28, 28))\n",
        "img = cv2.bitwise_not(img)\n",
        "img = img / 255.0\n",
        "img = img.reshape(1, 28, 28, 1)\n",
        "prediction = model.predict(img)\n",
        "predicted_label = np.argmax(prediction)\n",
        "print(f'Predykcja modelu: {predicted_label}')\n",
        ""
      ],
      "metadata": {
        "id": "UCwm99YxWF9h"
      },
      "execution_count": null,
      "outputs": []
    }
  ],
  "metadata": {
    "colab": {
      "name": "Welcome To Colab",
      "provenance": []
    },
    "kernelspec": {
      "display_name": "Python 3",
      "name": "python3"
    }
  },
  "nbformat": 4,
  "nbformat_minor": 0
}