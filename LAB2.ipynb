{
  "cells": [
    {
      "cell_type": "markdown",
      "metadata": {
        "id": "view-in-github",
        "colab_type": "text"
      },
      "source": [
        "<a href=\"https://colab.research.google.com/github/Olisher12/Python_lab/blob/main/LAB2.ipynb\" target=\"_parent\"><img src=\"https://colab.research.google.com/assets/colab-badge.svg\" alt=\"Open In Colab\"/></a>"
      ]
    },
    {
      "cell_type": "code",
      "source": [
        "import tensorflow as tf\n",
        "import numpy as np\n",
        "import matplotlib.pyplot as plt\n",
        "from mpl_toolkits.mplot3d import Axes3D\n",
        "\n",
        "print(tf.__version__)\n"
      ],
      "metadata": {
        "id": "Ic1vkNWdF_xF",
        "outputId": "5018be25-3177-401a-9bfc-447bc3444c98",
        "colab": {
          "base_uri": "https://localhost:8080/"
        }
      },
      "execution_count": 9,
      "outputs": [
        {
          "output_type": "stream",
          "name": "stdout",
          "text": [
            "2.18.0\n"
          ]
        }
      ]
    },
    {
      "cell_type": "code",
      "source": [
        "from ast import mod\n",
        "training_data = np.load('TF_intro.npz')\n",
        "input_size = 2\n",
        "output_size = 1"
      ],
      "metadata": {
        "id": "RXTIams0Gd0U"
      },
      "execution_count": 10,
      "outputs": []
    },
    {
      "cell_type": "code",
      "source": [
        "model = tf.keras.Sequential([\n",
        "    tf.keras.layers.Dense(5, activation=\"sigmoid\"),\n",
        "    tf.keras.layers.Dense(5, activation=\"sigmoid\"),\n",
        "    tf.keras.layers.Dense(output_size)\n",
        "])\n",
        "model.compile(optimizer=tf.keras.optimizers.RMSprop(learning_rate=0.01),\n",
        "              loss=tf.keras.losses.MeanAbsoluteError())\n",
        "model.fit(training_data['inputs'], training_data['targets'], epochs=100, verbose=2)"
      ],
      "metadata": {
        "id": "gJHgYT34GiY9",
        "outputId": "61e59a9c-1cd7-43b4-a2ae-a581780fd218",
        "colab": {
          "base_uri": "https://localhost:8080/"
        }
      },
      "execution_count": 11,
      "outputs": [
        {
          "output_type": "stream",
          "name": "stdout",
          "text": [
            "Epoch 1/100\n",
            "3125/3125 - 4s - 1ms/step - loss: 41.5640\n",
            "Epoch 2/100\n",
            "3125/3125 - 6s - 2ms/step - loss: 10.6261\n",
            "Epoch 3/100\n",
            "3125/3125 - 4s - 1ms/step - loss: 3.6832\n",
            "Epoch 4/100\n",
            "3125/3125 - 4s - 1ms/step - loss: 2.2698\n",
            "Epoch 5/100\n",
            "3125/3125 - 5s - 2ms/step - loss: 1.8200\n",
            "Epoch 6/100\n",
            "3125/3125 - 5s - 1ms/step - loss: 1.6097\n",
            "Epoch 7/100\n",
            "3125/3125 - 5s - 2ms/step - loss: 1.4973\n",
            "Epoch 8/100\n",
            "3125/3125 - 3s - 1ms/step - loss: 1.4229\n",
            "Epoch 9/100\n",
            "3125/3125 - 5s - 2ms/step - loss: 1.3675\n",
            "Epoch 10/100\n",
            "3125/3125 - 3s - 996us/step - loss: 1.3393\n",
            "Epoch 11/100\n",
            "3125/3125 - 4s - 1ms/step - loss: 1.3069\n",
            "Epoch 12/100\n",
            "3125/3125 - 3s - 986us/step - loss: 1.2838\n",
            "Epoch 13/100\n",
            "3125/3125 - 5s - 2ms/step - loss: 1.2651\n",
            "Epoch 14/100\n",
            "3125/3125 - 5s - 2ms/step - loss: 1.2526\n",
            "Epoch 15/100\n",
            "3125/3125 - 3s - 989us/step - loss: 1.2404\n",
            "Epoch 16/100\n",
            "3125/3125 - 3s - 1ms/step - loss: 1.2312\n",
            "Epoch 17/100\n",
            "3125/3125 - 5s - 2ms/step - loss: 1.2268\n",
            "Epoch 18/100\n",
            "3125/3125 - 5s - 2ms/step - loss: 1.2208\n",
            "Epoch 19/100\n",
            "3125/3125 - 4s - 1ms/step - loss: 1.2155\n",
            "Epoch 20/100\n",
            "3125/3125 - 5s - 1ms/step - loss: 1.2091\n",
            "Epoch 21/100\n",
            "3125/3125 - 3s - 1ms/step - loss: 1.2079\n",
            "Epoch 22/100\n",
            "3125/3125 - 5s - 2ms/step - loss: 1.2011\n",
            "Epoch 23/100\n",
            "3125/3125 - 3s - 989us/step - loss: 1.1999\n",
            "Epoch 24/100\n",
            "3125/3125 - 3s - 993us/step - loss: 1.1927\n",
            "Epoch 25/100\n",
            "3125/3125 - 5s - 2ms/step - loss: 1.1925\n",
            "Epoch 26/100\n",
            "3125/3125 - 3s - 988us/step - loss: 1.1846\n",
            "Epoch 27/100\n",
            "3125/3125 - 5s - 2ms/step - loss: 1.1876\n",
            "Epoch 28/100\n",
            "3125/3125 - 3s - 987us/step - loss: 1.1739\n",
            "Epoch 29/100\n",
            "3125/3125 - 5s - 2ms/step - loss: 1.1763\n",
            "Epoch 30/100\n",
            "3125/3125 - 4s - 1ms/step - loss: 1.1701\n",
            "Epoch 31/100\n",
            "3125/3125 - 5s - 2ms/step - loss: 1.1647\n",
            "Epoch 32/100\n",
            "3125/3125 - 5s - 2ms/step - loss: 1.1629\n",
            "Epoch 33/100\n",
            "3125/3125 - 5s - 1ms/step - loss: 1.1591\n",
            "Epoch 34/100\n",
            "3125/3125 - 3s - 998us/step - loss: 1.1592\n",
            "Epoch 35/100\n",
            "3125/3125 - 5s - 2ms/step - loss: 1.1536\n",
            "Epoch 36/100\n",
            "3125/3125 - 3s - 996us/step - loss: 1.1526\n",
            "Epoch 37/100\n",
            "3125/3125 - 5s - 2ms/step - loss: 1.1561\n",
            "Epoch 38/100\n",
            "3125/3125 - 5s - 2ms/step - loss: 1.1524\n",
            "Epoch 39/100\n",
            "3125/3125 - 3s - 981us/step - loss: 1.1472\n",
            "Epoch 40/100\n",
            "3125/3125 - 6s - 2ms/step - loss: 1.1508\n",
            "Epoch 41/100\n",
            "3125/3125 - 5s - 1ms/step - loss: 1.1501\n",
            "Epoch 42/100\n",
            "3125/3125 - 3s - 988us/step - loss: 1.1460\n",
            "Epoch 43/100\n",
            "3125/3125 - 5s - 2ms/step - loss: 1.1487\n",
            "Epoch 44/100\n",
            "3125/3125 - 3s - 983us/step - loss: 1.1383\n",
            "Epoch 45/100\n",
            "3125/3125 - 6s - 2ms/step - loss: 1.1414\n",
            "Epoch 46/100\n",
            "3125/3125 - 5s - 1ms/step - loss: 1.1436\n",
            "Epoch 47/100\n",
            "3125/3125 - 3s - 977us/step - loss: 1.1409\n",
            "Epoch 48/100\n",
            "3125/3125 - 5s - 2ms/step - loss: 1.1423\n",
            "Epoch 49/100\n",
            "3125/3125 - 5s - 2ms/step - loss: 1.1397\n",
            "Epoch 50/100\n",
            "3125/3125 - 6s - 2ms/step - loss: 1.1369\n",
            "Epoch 51/100\n",
            "3125/3125 - 5s - 2ms/step - loss: 1.1341\n",
            "Epoch 52/100\n",
            "3125/3125 - 3s - 977us/step - loss: 1.1387\n",
            "Epoch 53/100\n",
            "3125/3125 - 5s - 2ms/step - loss: 1.1376\n",
            "Epoch 54/100\n",
            "3125/3125 - 5s - 2ms/step - loss: 1.1376\n",
            "Epoch 55/100\n",
            "3125/3125 - 5s - 2ms/step - loss: 1.1362\n",
            "Epoch 56/100\n",
            "3125/3125 - 4s - 1ms/step - loss: 1.1362\n",
            "Epoch 57/100\n",
            "3125/3125 - 3s - 984us/step - loss: 1.1328\n",
            "Epoch 58/100\n",
            "3125/3125 - 5s - 2ms/step - loss: 1.1332\n",
            "Epoch 59/100\n",
            "3125/3125 - 5s - 2ms/step - loss: 1.1349\n",
            "Epoch 60/100\n",
            "3125/3125 - 3s - 1ms/step - loss: 1.1346\n",
            "Epoch 61/100\n",
            "3125/3125 - 3s - 973us/step - loss: 1.1335\n",
            "Epoch 62/100\n",
            "3125/3125 - 5s - 2ms/step - loss: 1.1325\n",
            "Epoch 63/100\n",
            "3125/3125 - 3s - 1ms/step - loss: 1.1332\n",
            "Epoch 64/100\n",
            "3125/3125 - 5s - 1ms/step - loss: 1.1314\n",
            "Epoch 65/100\n",
            "3125/3125 - 3s - 969us/step - loss: 1.1296\n",
            "Epoch 66/100\n",
            "3125/3125 - 4s - 1ms/step - loss: 1.1319\n",
            "Epoch 67/100\n",
            "3125/3125 - 5s - 1ms/step - loss: 1.1286\n",
            "Epoch 68/100\n",
            "3125/3125 - 3s - 983us/step - loss: 1.1285\n",
            "Epoch 69/100\n",
            "3125/3125 - 5s - 2ms/step - loss: 1.1320\n",
            "Epoch 70/100\n",
            "3125/3125 - 5s - 2ms/step - loss: 1.1262\n",
            "Epoch 71/100\n",
            "3125/3125 - 3s - 1ms/step - loss: 1.1274\n",
            "Epoch 72/100\n",
            "3125/3125 - 3s - 1ms/step - loss: 1.1234\n",
            "Epoch 73/100\n",
            "3125/3125 - 3s - 966us/step - loss: 1.1290\n",
            "Epoch 74/100\n",
            "3125/3125 - 5s - 2ms/step - loss: 1.1314\n",
            "Epoch 75/100\n",
            "3125/3125 - 3s - 996us/step - loss: 1.1259\n",
            "Epoch 76/100\n",
            "3125/3125 - 5s - 2ms/step - loss: 1.1280\n",
            "Epoch 77/100\n",
            "3125/3125 - 4s - 1ms/step - loss: 1.1267\n",
            "Epoch 78/100\n",
            "3125/3125 - 5s - 1ms/step - loss: 1.1238\n",
            "Epoch 79/100\n",
            "3125/3125 - 5s - 2ms/step - loss: 1.1278\n",
            "Epoch 80/100\n",
            "3125/3125 - 5s - 2ms/step - loss: 1.1217\n",
            "Epoch 81/100\n",
            "3125/3125 - 3s - 992us/step - loss: 1.1254\n",
            "Epoch 82/100\n",
            "3125/3125 - 6s - 2ms/step - loss: 1.1232\n",
            "Epoch 83/100\n",
            "3125/3125 - 3s - 977us/step - loss: 1.1262\n",
            "Epoch 84/100\n",
            "3125/3125 - 5s - 2ms/step - loss: 1.1225\n",
            "Epoch 85/100\n",
            "3125/3125 - 3s - 1ms/step - loss: 1.1194\n",
            "Epoch 86/100\n",
            "3125/3125 - 5s - 1ms/step - loss: 1.1218\n",
            "Epoch 87/100\n",
            "3125/3125 - 3s - 963us/step - loss: 1.1200\n",
            "Epoch 88/100\n",
            "3125/3125 - 5s - 2ms/step - loss: 1.1212\n",
            "Epoch 89/100\n",
            "3125/3125 - 5s - 2ms/step - loss: 1.1178\n",
            "Epoch 90/100\n",
            "3125/3125 - 4s - 1ms/step - loss: 1.1201\n",
            "Epoch 91/100\n",
            "3125/3125 - 5s - 2ms/step - loss: 1.1197\n",
            "Epoch 92/100\n",
            "3125/3125 - 3s - 1ms/step - loss: 1.1214\n",
            "Epoch 93/100\n",
            "3125/3125 - 5s - 2ms/step - loss: 1.1185\n",
            "Epoch 94/100\n",
            "3125/3125 - 3s - 988us/step - loss: 1.1180\n",
            "Epoch 95/100\n",
            "3125/3125 - 5s - 2ms/step - loss: 1.1179\n",
            "Epoch 96/100\n",
            "3125/3125 - 3s - 1ms/step - loss: 1.1197\n",
            "Epoch 97/100\n",
            "3125/3125 - 5s - 2ms/step - loss: 1.1178\n",
            "Epoch 98/100\n",
            "3125/3125 - 6s - 2ms/step - loss: 1.1170\n",
            "Epoch 99/100\n",
            "3125/3125 - 5s - 2ms/step - loss: 1.1165\n",
            "Epoch 100/100\n",
            "3125/3125 - 5s - 2ms/step - loss: 1.1145\n"
          ]
        },
        {
          "output_type": "execute_result",
          "data": {
            "text/plain": [
              "<keras.src.callbacks.history.History at 0x7df4ebaed790>"
            ]
          },
          "metadata": {},
          "execution_count": 11
        }
      ]
    },
    {
      "cell_type": "code",
      "source": [
        "model.layers[0].get_weights()"
      ],
      "metadata": {
        "id": "4g51rjWSIZYS",
        "outputId": "dcf4b472-8cf0-4e28-cd15-e536762c6ebf",
        "colab": {
          "base_uri": "https://localhost:8080/"
        }
      },
      "execution_count": 12,
      "outputs": [
        {
          "output_type": "execute_result",
          "data": {
            "text/plain": [
              "[array([[-0.7984274 ,  0.7745049 , -0.79906696, -0.7490211 , -0.839664  ],\n",
              "        [-0.42868775,  0.41669157, -0.4286778 , -0.40700507, -0.44988182]],\n",
              "       dtype=float32),\n",
              " array([ 5.60599   , 11.540215  ,  0.36278278, 10.75685   , -6.3839316 ],\n",
              "       dtype=float32)]"
            ]
          },
          "metadata": {},
          "execution_count": 12
        }
      ]
    },
    {
      "cell_type": "code",
      "source": [
        "plt.plot(np.squeeze(model.predict(training_data['inputs'])),\n",
        "         np.squeeze(training_data['targets']), color='orange')\n",
        "plt.xlabel('outputs')\n",
        "plt.ylabel('targets')\n",
        "plt.show()"
      ],
      "metadata": {
        "id": "9Y_RWTa8IdgF",
        "outputId": "c0e4bf95-2e1e-43de-ed36-15e120cc0f07",
        "colab": {
          "base_uri": "https://localhost:8080/",
          "height": 466
        }
      },
      "execution_count": 13,
      "outputs": [
        {
          "output_type": "stream",
          "name": "stdout",
          "text": [
            "\u001b[1m3125/3125\u001b[0m \u001b[32m━━━━━━━━━━━━━━━━━━━━\u001b[0m\u001b[37m\u001b[0m \u001b[1m2s\u001b[0m 745us/step\n"
          ]
        },
        {
          "output_type": "display_data",
          "data": {
            "text/plain": [
              "<Figure size 640x480 with 1 Axes>"
            ],
            "image/png": "[encoded data removed]"
          },
          "metadata": {}
        }
      ]
    }
  ],
  "metadata": {
    "colab": {
      "name": "Welcome To Colab",
      "toc_visible": true,
      "provenance": [],
      "include_colab_link": true
    },
    "kernelspec": {
      "display_name": "Python 3",
      "name": "python3"
    }
  },
  "nbformat": 4,
  "nbformat_minor": 0
}